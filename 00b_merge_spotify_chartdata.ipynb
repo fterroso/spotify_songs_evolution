{
 "cells": [
  {
   "cell_type": "code",
   "execution_count": 1,
   "metadata": {},
   "outputs": [],
   "source": [
    "import pandas as pd\n",
    "import os \n",
    "from tqdm.notebook import tqdm"
   ]
  },
  {
   "cell_type": "code",
   "execution_count": 3,
   "metadata": {},
   "outputs": [
    {
     "data": {
      "text/plain": [
       "\"\\n\\n\\nfor (dirpath, dirnames, filenames) in os.walk(os.path.join('data','chart_data')):\\n    if filenames\\n    country_charts.extend(filenames)\\n    break\\ncountry_charts.append('data.csv')\\n\\ncountry_charts2 = []\\n\\nfor (dirpath, dirnames, filenames) in os.walk(os.path.join('data','chart_data','data_202106_202111')):\\n    country_charts2.extend(filenames)\\n    break\\n    \\n    \\ncountry_charts3 = []\\n\\nfor (dirpath, dirnames, filenames) in os.walk(os.path.join('data','chart_data','data_202111_202202')):\\n    country_charts3.extend(filenames)\\n    break\\n\""
      ]
     },
     "execution_count": 3,
     "metadata": {},
     "output_type": "execute_result"
    }
   ],
   "source": [
    "country_charts = []\n",
    "\n",
    "for file in os.listdir(os.path.join('data','chart_data')):\n",
    "    if file.endswith(\".csv\"):\n",
    "        country_charts.append(file)\n",
    "        \n",
    "country_charts2 = []\n",
    "\n",
    "for file in os.listdir(os.path.join('data','chart_data','data_202106_202111')):\n",
    "    if file.endswith(\".csv\"):\n",
    "        country_charts2.append(file)\n",
    "\n",
    "country_charts3 = []\n",
    "\n",
    "for file in os.listdir(os.path.join('data','chart_data','data_202111_202202')):\n",
    "    if file.endswith(\".csv\"):\n",
    "        country_charts3.append(file)"
   ]
  },
  {
   "cell_type": "code",
   "execution_count": 4,
   "metadata": {},
   "outputs": [
    {
     "data": {
      "application/vnd.jupyter.widget-view+json": {
       "model_id": "1229f8e934d54cbebcf777e6eecfd77b",
       "version_major": 2,
       "version_minor": 0
      },
      "text/plain": [
       "  0%|          | 0/49 [00:00<?, ?it/s]"
      ]
     },
     "metadata": {},
     "output_type": "display_data"
    },
    {
     "data": {
      "application/vnd.jupyter.widget-view+json": {
       "model_id": "1c18f92b387c429ca690310f2d605894",
       "version_major": 2,
       "version_minor": 0
      },
      "text/plain": [
       "  0%|          | 0/54 [00:00<?, ?it/s]"
      ]
     },
     "metadata": {},
     "output_type": "display_data"
    },
    {
     "data": {
      "application/vnd.jupyter.widget-view+json": {
       "model_id": "6b77fc804f6547e0b7d437c96ccabb59",
       "version_major": 2,
       "version_minor": 0
      },
      "text/plain": [
       "  0%|          | 0/54 [00:00<?, ?it/s]"
      ]
     },
     "metadata": {},
     "output_type": "display_data"
    }
   ],
   "source": [
    "dfs = []\n",
    "for chart in tqdm(country_charts):\n",
    "    df_ = pd.read_csv(os.path.join('data','chart_data',chart), parse_dates=['Date'])\n",
    "    dfs.append(df_)\n",
    "\n",
    "for chart in tqdm(country_charts2):\n",
    "    df_ = pd.read_csv(os.path.join('data','chart_data', 'data_202106_202111', chart), \n",
    "                      parse_dates=['Date'])\n",
    "    dfs.append(df_)\n",
    "    \n",
    "\n",
    "for chart in tqdm(country_charts3):\n",
    "    df_ = pd.read_csv(os.path.join('data','chart_data', 'data_202111_202202', chart), \n",
    "                      parse_dates=['Date'])\n",
    "    dfs.append(df_)\n",
    "\n",
    "ranking_df = pd.concat(dfs,axis=0)    "
   ]
  },
  {
   "cell_type": "code",
   "execution_count": 5,
   "metadata": {},
   "outputs": [
    {
     "data": {
      "text/html": [
       "<div>\n",
       "<style scoped>\n",
       "    .dataframe tbody tr th:only-of-type {\n",
       "        vertical-align: middle;\n",
       "    }\n",
       "\n",
       "    .dataframe tbody tr th {\n",
       "        vertical-align: top;\n",
       "    }\n",
       "\n",
       "    .dataframe thead th {\n",
       "        text-align: right;\n",
       "    }\n",
       "</style>\n",
       "<table border=\"1\" class=\"dataframe\">\n",
       "  <thead>\n",
       "    <tr style=\"text-align: right;\">\n",
       "      <th></th>\n",
       "      <th>Position</th>\n",
       "      <th>Track Name</th>\n",
       "      <th>Artist</th>\n",
       "      <th>Streams</th>\n",
       "      <th>URL</th>\n",
       "      <th>Date</th>\n",
       "      <th>Region</th>\n",
       "    </tr>\n",
       "  </thead>\n",
       "  <tbody>\n",
       "    <tr>\n",
       "      <th>0</th>\n",
       "      <td>1</td>\n",
       "      <td>Échame La Culpa</td>\n",
       "      <td>Luis Fonsi, Demi Lovato</td>\n",
       "      <td>26459</td>\n",
       "      <td>1zsG4eaZmkA1dvjDDsAGLK</td>\n",
       "      <td>2018-01-01</td>\n",
       "      <td>ec</td>\n",
       "    </tr>\n",
       "    <tr>\n",
       "      <th>1</th>\n",
       "      <td>2</td>\n",
       "      <td>Corazón</td>\n",
       "      <td>Maluma, Nego do Borel</td>\n",
       "      <td>25743</td>\n",
       "      <td>4lESS6vuruP6a79KWRaQou</td>\n",
       "      <td>2018-01-01</td>\n",
       "      <td>ec</td>\n",
       "    </tr>\n",
       "    <tr>\n",
       "      <th>2</th>\n",
       "      <td>3</td>\n",
       "      <td>Déjala Que Vuelva (feat. Manuel Turizo)</td>\n",
       "      <td>Piso 21</td>\n",
       "      <td>24315</td>\n",
       "      <td>33bnxcjePIkcmNjEFTJX0l</td>\n",
       "      <td>2018-01-01</td>\n",
       "      <td>ec</td>\n",
       "    </tr>\n",
       "    <tr>\n",
       "      <th>3</th>\n",
       "      <td>4</td>\n",
       "      <td>Criminal</td>\n",
       "      <td>Natti Natasha, Ozuna</td>\n",
       "      <td>22060</td>\n",
       "      <td>6Za3190Sbw39BBC77WSS1C</td>\n",
       "      <td>2018-01-01</td>\n",
       "      <td>ec</td>\n",
       "    </tr>\n",
       "    <tr>\n",
       "      <th>4</th>\n",
       "      <td>5</td>\n",
       "      <td>Mayores</td>\n",
       "      <td>Becky G, Bad Bunny</td>\n",
       "      <td>18587</td>\n",
       "      <td>7JNh1cfm0eXjqFVOzKLyau</td>\n",
       "      <td>2018-01-01</td>\n",
       "      <td>ec</td>\n",
       "    </tr>\n",
       "  </tbody>\n",
       "</table>\n",
       "</div>"
      ],
      "text/plain": [
       "   Position                               Track Name                   Artist  \\\n",
       "0         1                          Échame La Culpa  Luis Fonsi, Demi Lovato   \n",
       "1         2                                  Corazón    Maluma, Nego do Borel   \n",
       "2         3  Déjala Que Vuelva (feat. Manuel Turizo)                  Piso 21   \n",
       "3         4                                 Criminal     Natti Natasha, Ozuna   \n",
       "4         5                                  Mayores       Becky G, Bad Bunny   \n",
       "\n",
       "   Streams                     URL       Date Region  \n",
       "0    26459  1zsG4eaZmkA1dvjDDsAGLK 2018-01-01     ec  \n",
       "1    25743  4lESS6vuruP6a79KWRaQou 2018-01-01     ec  \n",
       "2    24315  33bnxcjePIkcmNjEFTJX0l 2018-01-01     ec  \n",
       "3    22060  6Za3190Sbw39BBC77WSS1C 2018-01-01     ec  \n",
       "4    18587  7JNh1cfm0eXjqFVOzKLyau 2018-01-01     ec  "
      ]
     },
     "execution_count": 5,
     "metadata": {},
     "output_type": "execute_result"
    }
   ],
   "source": [
    "ranking_df.head()"
   ]
  },
  {
   "cell_type": "code",
   "execution_count": 6,
   "metadata": {},
   "outputs": [
    {
     "data": {
      "text/html": [
       "<div>\n",
       "<style scoped>\n",
       "    .dataframe tbody tr th:only-of-type {\n",
       "        vertical-align: middle;\n",
       "    }\n",
       "\n",
       "    .dataframe tbody tr th {\n",
       "        vertical-align: top;\n",
       "    }\n",
       "\n",
       "    .dataframe thead th {\n",
       "        text-align: right;\n",
       "    }\n",
       "</style>\n",
       "<table border=\"1\" class=\"dataframe\">\n",
       "  <thead>\n",
       "    <tr style=\"text-align: right;\">\n",
       "      <th></th>\n",
       "      <th>Position</th>\n",
       "      <th>Track Name</th>\n",
       "      <th>Artist</th>\n",
       "      <th>Streams</th>\n",
       "      <th>URL</th>\n",
       "      <th>Date</th>\n",
       "      <th>Region</th>\n",
       "    </tr>\n",
       "  </thead>\n",
       "  <tbody>\n",
       "    <tr>\n",
       "      <th>18195</th>\n",
       "      <td>196</td>\n",
       "      <td>u.</td>\n",
       "      <td>niteboi</td>\n",
       "      <td>4720</td>\n",
       "      <td>0J7oHYxjF6Oln61wy0kP2i</td>\n",
       "      <td>2022-02-22</td>\n",
       "      <td>at</td>\n",
       "    </tr>\n",
       "    <tr>\n",
       "      <th>18196</th>\n",
       "      <td>197</td>\n",
       "      <td>Shallow</td>\n",
       "      <td>Lady Gaga, Bradley Cooper</td>\n",
       "      <td>4695</td>\n",
       "      <td>2VxeLyX666F8uXCJ0dZF8B</td>\n",
       "      <td>2022-02-22</td>\n",
       "      <td>at</td>\n",
       "    </tr>\n",
       "    <tr>\n",
       "      <th>18197</th>\n",
       "      <td>198</td>\n",
       "      <td>Someone To You</td>\n",
       "      <td>BANNERS</td>\n",
       "      <td>4682</td>\n",
       "      <td>2f0pn9DkEJwAzXApnFh5cr</td>\n",
       "      <td>2022-02-22</td>\n",
       "      <td>at</td>\n",
       "    </tr>\n",
       "    <tr>\n",
       "      <th>18198</th>\n",
       "      <td>199</td>\n",
       "      <td>you broke me first</td>\n",
       "      <td>Tate McRae</td>\n",
       "      <td>4681</td>\n",
       "      <td>45bE4HXI0AwGZXfZtMp8JR</td>\n",
       "      <td>2022-02-22</td>\n",
       "      <td>at</td>\n",
       "    </tr>\n",
       "    <tr>\n",
       "      <th>18199</th>\n",
       "      <td>200</td>\n",
       "      <td>Love Again</td>\n",
       "      <td>Dua Lipa</td>\n",
       "      <td>4645</td>\n",
       "      <td>4rPkN1FMzQyFNP9cLUGIIB</td>\n",
       "      <td>2022-02-22</td>\n",
       "      <td>at</td>\n",
       "    </tr>\n",
       "  </tbody>\n",
       "</table>\n",
       "</div>"
      ],
      "text/plain": [
       "       Position          Track Name                     Artist  Streams  \\\n",
       "18195       196                  u.                    niteboi     4720   \n",
       "18196       197             Shallow  Lady Gaga, Bradley Cooper     4695   \n",
       "18197       198      Someone To You                    BANNERS     4682   \n",
       "18198       199  you broke me first                 Tate McRae     4681   \n",
       "18199       200          Love Again                   Dua Lipa     4645   \n",
       "\n",
       "                          URL       Date Region  \n",
       "18195  0J7oHYxjF6Oln61wy0kP2i 2022-02-22     at  \n",
       "18196  2VxeLyX666F8uXCJ0dZF8B 2022-02-22     at  \n",
       "18197  2f0pn9DkEJwAzXApnFh5cr 2022-02-22     at  \n",
       "18198  45bE4HXI0AwGZXfZtMp8JR 2022-02-22     at  \n",
       "18199  4rPkN1FMzQyFNP9cLUGIIB 2022-02-22     at  "
      ]
     },
     "execution_count": 6,
     "metadata": {},
     "output_type": "execute_result"
    }
   ],
   "source": [
    "ranking_df.tail()"
   ]
  },
  {
   "cell_type": "code",
   "execution_count": 7,
   "metadata": {},
   "outputs": [
    {
     "name": "stdout",
     "output_type": "stream",
     "text": [
      "<class 'pandas.core.frame.DataFrame'>\n",
      "Int64Index: 17231641 entries, 0 to 18199\n",
      "Data columns (total 7 columns):\n",
      " #   Column      Dtype         \n",
      "---  ------      -----         \n",
      " 0   Position    int64         \n",
      " 1   Track Name  object        \n",
      " 2   Artist      object        \n",
      " 3   Streams     int64         \n",
      " 4   URL         object        \n",
      " 5   Date        datetime64[ns]\n",
      " 6   Region      object        \n",
      "dtypes: datetime64[ns](1), int64(2), object(4)\n",
      "memory usage: 1.0+ GB\n"
     ]
    }
   ],
   "source": [
    "ranking_df.info()"
   ]
  },
  {
   "cell_type": "code",
   "execution_count": 8,
   "metadata": {},
   "outputs": [
    {
     "data": {
      "text/plain": [
       "(17231641, 7)"
      ]
     },
     "execution_count": 8,
     "metadata": {},
     "output_type": "execute_result"
    }
   ],
   "source": [
    "ranking_df.shape"
   ]
  },
  {
   "cell_type": "code",
   "execution_count": 9,
   "metadata": {},
   "outputs": [
    {
     "data": {
      "text/plain": [
       "112071"
      ]
     },
     "execution_count": 9,
     "metadata": {},
     "output_type": "execute_result"
    }
   ],
   "source": [
    "ranking_df['URL'].nunique()"
   ]
  },
  {
   "cell_type": "markdown",
   "metadata": {},
   "source": [
    "### Enrich dataset"
   ]
  },
  {
   "cell_type": "code",
   "execution_count": 10,
   "metadata": {},
   "outputs": [],
   "source": [
    "country_dict = {'ar':'Argentina', 'at':'Austria', 'au':'Australia', 'be':'Belgium',\n",
    "       'bo':'Bolivia', 'br':'Brazil', 'ca':'Canada', 'ch':'Switzerland', \n",
    "       'cl':'Chile', 'co':'Columbia', 'cr':'CostaRica', 'cz':'CzechRepublic',\n",
    "       'de':'Germany', 'dk':'Denmark', 'do':'DominicanRepublic', 'ec':'Ecuador', \n",
    "       'ee':'Estonia', 'es':'Spain', 'fi':'Finland', 'fr':'France', \n",
    "       'gb':'UnitedKingdom', 'global':'World', 'gr':'Greece', 'gt':'Guatemala',\n",
    "       'hk':'HongKong', 'hn':'Honduras', 'hu':'Hungary', 'id':'Indonesia', \n",
    "       'ie':'Ireland', 'is':'Iceland', 'it':'Italy', 'jp':'Japan', \n",
    "       'lt':'Lithuania', 'lu':'Luxemborg', 'lv':'Latvia', 'mx':'Mexico', \n",
    "       'my':'Malaysia', 'nl':'Netherlands', 'no':'Norway', 'nz':'NewZealand', \n",
    "       'pa':'Panama', 'pe':'Peru', 'ph':'Philippines', 'pl':'Poland', \n",
    "       'pt':'Portugal', 'py':'Paraguay', 'se':'Sweden', 'sg':'Singapore', \n",
    "       'sk':'Slovakia', 'sv':'ElSalvador', 'tr':'Turkey', 'tw':'Taiwan', 'us':'USA', 'uy':'Uruguay',} "
   ]
  },
  {
   "cell_type": "code",
   "execution_count": 11,
   "metadata": {},
   "outputs": [],
   "source": [
    "def get_song_id(url):\n",
    "    \n",
    "    if type(url)== float:\n",
    "        return \"no id\"\n",
    "    else:\n",
    "        return url.split('/')[-1]"
   ]
  },
  {
   "cell_type": "code",
   "execution_count": 12,
   "metadata": {},
   "outputs": [],
   "source": [
    "ranking_df['song_id']= ranking_df['URL'].apply(get_song_id)\n",
    "ranking_df['Region']= ranking_df['Region'].apply(lambda x: country_dict[x])\n",
    "ranking_df['release_date']=ranking_df.groupby('song_id')['Date'].transform('min')"
   ]
  },
  {
   "cell_type": "code",
   "execution_count": 13,
   "metadata": {},
   "outputs": [
    {
     "data": {
      "text/html": [
       "<div>\n",
       "<style scoped>\n",
       "    .dataframe tbody tr th:only-of-type {\n",
       "        vertical-align: middle;\n",
       "    }\n",
       "\n",
       "    .dataframe tbody tr th {\n",
       "        vertical-align: top;\n",
       "    }\n",
       "\n",
       "    .dataframe thead th {\n",
       "        text-align: right;\n",
       "    }\n",
       "</style>\n",
       "<table border=\"1\" class=\"dataframe\">\n",
       "  <thead>\n",
       "    <tr style=\"text-align: right;\">\n",
       "      <th></th>\n",
       "      <th>Position</th>\n",
       "      <th>Track Name</th>\n",
       "      <th>Artist</th>\n",
       "      <th>Streams</th>\n",
       "      <th>URL</th>\n",
       "      <th>Date</th>\n",
       "      <th>Region</th>\n",
       "      <th>song_id</th>\n",
       "      <th>release_date</th>\n",
       "    </tr>\n",
       "  </thead>\n",
       "  <tbody>\n",
       "    <tr>\n",
       "      <th>0</th>\n",
       "      <td>1</td>\n",
       "      <td>Échame La Culpa</td>\n",
       "      <td>Luis Fonsi, Demi Lovato</td>\n",
       "      <td>26459</td>\n",
       "      <td>1zsG4eaZmkA1dvjDDsAGLK</td>\n",
       "      <td>2018-01-01</td>\n",
       "      <td>Ecuador</td>\n",
       "      <td>1zsG4eaZmkA1dvjDDsAGLK</td>\n",
       "      <td>2017-11-17</td>\n",
       "    </tr>\n",
       "    <tr>\n",
       "      <th>1</th>\n",
       "      <td>2</td>\n",
       "      <td>Corazón</td>\n",
       "      <td>Maluma, Nego do Borel</td>\n",
       "      <td>25743</td>\n",
       "      <td>4lESS6vuruP6a79KWRaQou</td>\n",
       "      <td>2018-01-01</td>\n",
       "      <td>Ecuador</td>\n",
       "      <td>4lESS6vuruP6a79KWRaQou</td>\n",
       "      <td>2017-11-03</td>\n",
       "    </tr>\n",
       "    <tr>\n",
       "      <th>2</th>\n",
       "      <td>3</td>\n",
       "      <td>Déjala Que Vuelva (feat. Manuel Turizo)</td>\n",
       "      <td>Piso 21</td>\n",
       "      <td>24315</td>\n",
       "      <td>33bnxcjePIkcmNjEFTJX0l</td>\n",
       "      <td>2018-01-01</td>\n",
       "      <td>Ecuador</td>\n",
       "      <td>33bnxcjePIkcmNjEFTJX0l</td>\n",
       "      <td>2017-10-20</td>\n",
       "    </tr>\n",
       "    <tr>\n",
       "      <th>3</th>\n",
       "      <td>4</td>\n",
       "      <td>Criminal</td>\n",
       "      <td>Natti Natasha, Ozuna</td>\n",
       "      <td>22060</td>\n",
       "      <td>6Za3190Sbw39BBC77WSS1C</td>\n",
       "      <td>2018-01-01</td>\n",
       "      <td>Ecuador</td>\n",
       "      <td>6Za3190Sbw39BBC77WSS1C</td>\n",
       "      <td>2017-11-10</td>\n",
       "    </tr>\n",
       "    <tr>\n",
       "      <th>4</th>\n",
       "      <td>5</td>\n",
       "      <td>Mayores</td>\n",
       "      <td>Becky G, Bad Bunny</td>\n",
       "      <td>18587</td>\n",
       "      <td>7JNh1cfm0eXjqFVOzKLyau</td>\n",
       "      <td>2018-01-01</td>\n",
       "      <td>Ecuador</td>\n",
       "      <td>7JNh1cfm0eXjqFVOzKLyau</td>\n",
       "      <td>2017-07-14</td>\n",
       "    </tr>\n",
       "  </tbody>\n",
       "</table>\n",
       "</div>"
      ],
      "text/plain": [
       "   Position                               Track Name                   Artist  \\\n",
       "0         1                          Échame La Culpa  Luis Fonsi, Demi Lovato   \n",
       "1         2                                  Corazón    Maluma, Nego do Borel   \n",
       "2         3  Déjala Que Vuelva (feat. Manuel Turizo)                  Piso 21   \n",
       "3         4                                 Criminal     Natti Natasha, Ozuna   \n",
       "4         5                                  Mayores       Becky G, Bad Bunny   \n",
       "\n",
       "   Streams                     URL       Date   Region  \\\n",
       "0    26459  1zsG4eaZmkA1dvjDDsAGLK 2018-01-01  Ecuador   \n",
       "1    25743  4lESS6vuruP6a79KWRaQou 2018-01-01  Ecuador   \n",
       "2    24315  33bnxcjePIkcmNjEFTJX0l 2018-01-01  Ecuador   \n",
       "3    22060  6Za3190Sbw39BBC77WSS1C 2018-01-01  Ecuador   \n",
       "4    18587  7JNh1cfm0eXjqFVOzKLyau 2018-01-01  Ecuador   \n",
       "\n",
       "                  song_id release_date  \n",
       "0  1zsG4eaZmkA1dvjDDsAGLK   2017-11-17  \n",
       "1  4lESS6vuruP6a79KWRaQou   2017-11-03  \n",
       "2  33bnxcjePIkcmNjEFTJX0l   2017-10-20  \n",
       "3  6Za3190Sbw39BBC77WSS1C   2017-11-10  \n",
       "4  7JNh1cfm0eXjqFVOzKLyau   2017-07-14  "
      ]
     },
     "execution_count": 13,
     "metadata": {},
     "output_type": "execute_result"
    }
   ],
   "source": [
    "ranking_df.head()"
   ]
  },
  {
   "cell_type": "code",
   "execution_count": 14,
   "metadata": {},
   "outputs": [
    {
     "data": {
      "text/plain": [
       "(Timestamp('2017-01-01 00:00:00'), Timestamp('2022-02-22 00:00:00'))"
      ]
     },
     "execution_count": 14,
     "metadata": {},
     "output_type": "execute_result"
    }
   ],
   "source": [
    "ranking_df['Date'].min(), ranking_df['Date'].max()"
   ]
  },
  {
   "cell_type": "code",
   "execution_count": 15,
   "metadata": {},
   "outputs": [],
   "source": [
    "ranking_df = ranking_df[(ranking_df['song_id']!= 'no id') & (ranking_df['Region']!= 'global') ]"
   ]
  },
  {
   "cell_type": "code",
   "execution_count": 16,
   "metadata": {},
   "outputs": [],
   "source": [
    "ranking_df.to_csv(os.path.join('data','ranking_all_2017_2022.csv'))"
   ]
  },
  {
   "cell_type": "code",
   "execution_count": 17,
   "metadata": {
    "scrolled": true
   },
   "outputs": [
    {
     "name": "stdout",
     "output_type": "stream",
     "text": [
      "That's all folks!!\n"
     ]
    }
   ],
   "source": [
    "print(\"That's all folks!!\")"
   ]
  }
 ],
 "metadata": {
  "kernelspec": {
   "display_name": "Python 3",
   "language": "python",
   "name": "python3"
  },
  "language_info": {
   "codemirror_mode": {
    "name": "ipython",
    "version": 3
   },
   "file_extension": ".py",
   "mimetype": "text/x-python",
   "name": "python",
   "nbconvert_exporter": "python",
   "pygments_lexer": "ipython3",
   "version": "3.8.10"
  }
 },
 "nbformat": 4,
 "nbformat_minor": 4
}
