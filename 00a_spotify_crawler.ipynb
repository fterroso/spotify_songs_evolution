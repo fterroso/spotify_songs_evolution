{
 "cells": [
  {
   "cell_type": "code",
   "execution_count": 1,
   "id": "195e58c3",
   "metadata": {
    "collapsed": true
   },
   "outputs": [],
   "source": [
    "import requests\n",
    "from datetime import date, timedelta\n",
    "from time import sleep\n",
    "from bs4 import BeautifulSoup\n",
    "from tqdm.notebook import tqdm\n",
    "import pandas as pd"
   ]
  },
  {
   "cell_type": "code",
   "execution_count": 2,
   "id": "e247b596",
   "metadata": {},
   "outputs": [],
   "source": [
    "\"\"\"\n",
    "countries = {'ar':'Argentina', 'at':'Austria', 'au':'Australia', 'be':'Belgium',\n",
    "       'bo':'Bolivia', 'br':'Brazil', 'ca':'Canada', 'ch':'Switzerland', \n",
    "       'cl':'Chile', 'co':'Columbia', 'cr':'CostaRica', 'cz':'CzechRepublic',\n",
    "       'de':'Germany', 'dk':'Denmark', 'do':'DominicanRepublic', 'ec':'Ecuador', \n",
    "       'ee':'Estonia', 'es':'Spain', 'fi':'Finland', 'fr':'France', \n",
    "       'gb':'UnitedKingdom', 'global':'World', 'gr':'Greece', 'gt':'Guatemala',\n",
    "       'hk':'HongKong', 'hn':'Honduras', 'hu':'Hungary', 'id':'Indonesia', \n",
    "       'ie':'Ireland', 'is':'Iceland', 'it':'Italy', 'jp':'Japan', \n",
    "       'lt':'Lithuania', 'lu':'Luxemborg', 'lv':'Latvia', 'mx':'Mexico', \n",
    "       'my':'Malaysia', 'nl':'Netherlands', 'no':'Norway', 'nz':'NewZealand', \n",
    "       'pa':'Panama', 'pe':'Peru', 'ph':'Philippines', 'pl':'Poland', \n",
    "       'pt':'Portugal', 'py':'Paraguay', 'se':'Sweden', 'sg':'Singapore', \n",
    "       'sk':'Slovakia', 'sv':'ElSalvador', 'tr':'Turkey', 'tw':'Taiwan', 'us':'USA', 'uy':'Uruguay'} \n",
    "\"\"\"\n",
    "\n",
    "countries= {'at':'Austria', 'au':'Australia'}\n",
    "new_countries= {'ae':'UnitedArabEmirates', 'bg':'Bulgaria', 'by':'Belarus', 'eg':'Egypt', 'il': 'Israel',\n",
    "               'in': 'India', 'kr': 'Korea', 'kz':'Kazakhstan', 'ma': 'Marocco','ng': 'Nigeria','ni':'Nicaragua',\n",
    "               'ro':'Romania','ru': 'Russia', 'sa': 'SaudiArabia', 'ua':'Ukraine', 'vn':'Vietnam', 'za':'SouthAfrica'}"
   ]
  },
  {
   "cell_type": "code",
   "execution_count": 3,
   "id": "00be1a58",
   "metadata": {},
   "outputs": [],
   "source": [
    "country_codes=list(countries.keys())"
   ]
  },
  {
   "cell_type": "code",
   "execution_count": 4,
   "id": "b4c5a4a9",
   "metadata": {},
   "outputs": [
    {
     "data": {
      "text/plain": [
       "[]"
      ]
     },
     "execution_count": 4,
     "metadata": {},
     "output_type": "execute_result"
    }
   ],
   "source": [
    "processed_countries = []\n",
    "processed_countries"
   ]
  },
  {
   "cell_type": "code",
   "execution_count": 5,
   "id": "3012ca30",
   "metadata": {},
   "outputs": [],
   "source": [
    "country_codes = [x for x in country_codes if x not in processed_countries]"
   ]
  },
  {
   "cell_type": "code",
   "execution_count": 6,
   "id": "ca10eff8",
   "metadata": {},
   "outputs": [],
   "source": [
    "def add_url(dates, base_url):\n",
    "    url_list=[]\n",
    "    for date in dates:\n",
    "        c_string = base_url+date\n",
    "        url_list.append(c_string)\n",
    "    return url_list\n",
    "\n",
    "def song_scrape(x,songs,country):\n",
    "    pg = x\n",
    "    pos=1\n",
    "    song_lst = []\n",
    "    for tr in songs.find(\"tbody\").findAll(\"tr\"):\n",
    "        artist= tr.find(\"td\", {\"class\": \"chart-table-track\"}).find(\"span\").text\n",
    "        artist= artist.replace(\"by \",\"\").strip()\n",
    "  \n",
    "        title= tr.find(\"td\", {\"class\": \"chart-table-track\"}).find(\"strong\").text\n",
    "    \n",
    "        streams = tr.find(\"td\", {\"class\": \"chart-table-streams\"}).text\n",
    "        streams = int(streams.replace(',',''))\n",
    " \n",
    "        songid= tr.find(\"td\", {\"class\": \"chart-table-image\"}).find(\"a\").get(\"href\")\n",
    "        #songid= songid.split(\"track/\")[1]\n",
    "        songid_lst = songid.split(\"track/\")\n",
    "        songid = ''\n",
    "        if len(songid_lst)>=2:\n",
    "            songid = songid_lst[1]\n",
    "    \n",
    "        url_date= x.split(\"daily/\")[1]\n",
    "        song_lst.append([pos, title, artist, streams, songid, url_date, country])\n",
    "        pos+=1\n",
    "    return song_lst\n",
    "\n",
    "#loop through urls to create array of all of our song info\n",
    "\n",
    "\n",
    "def get_songs(countries, start_date, end_date):\n",
    "    \n",
    "    for country in tqdm(countries):\n",
    "        final = []\n",
    "\n",
    "        url = f\"https://spotifycharts.com/regional/{country}/daily/\"\n",
    "\n",
    "        delta= end_date-start_date\n",
    "        dates_=[]\n",
    "\n",
    "        for i in range(delta.days+1):\n",
    "            day = start_date+timedelta(days=i)\n",
    "            day_string= day.strftime(\"%Y-%m-%d\")\n",
    "            dates_.append(day_string)\n",
    "\n",
    "        url_list_=add_url(dates_,url)\n",
    "\n",
    "        for i in tqdm(range(0, len(url_list_)), leave=False):\n",
    "            \n",
    "            songs_= None\n",
    "            try:\n",
    "                headers = {'User-Agent': 'Mozilla/5.0 (Macintosh; Intel Mac OS X 10_10_1) AppleWebKit/537.36 (KHTML, like Gecko) Chrome/39.0.2171.95 Safari/537.36'}\n",
    "                read_pg= requests.get(url_list_[i],headers=headers)\n",
    "                sleep(2)\n",
    "                #print(read_pg.text)\n",
    "                soup= BeautifulSoup(read_pg.text, \"html.parser\")\n",
    "                songs_= soup.find(\"table\", {\"class\":\"chart-table\"})\n",
    "            except:\n",
    "                print(f\"Error with url {url_list_[i]}. Waiting 2 hours.\") \n",
    "                sleep(2*60*60) \n",
    "                i = i-1 #retry the same url\n",
    "            \n",
    "            if songs_ is not None:\n",
    "                song_lst= song_scrape(url_list_[i],songs_,country)\n",
    "                final= final + song_lst\n",
    "            else:\n",
    "                print(f\"No chart for {url_list_[i]}.\")\n",
    "                \n",
    "            i = i+1\n",
    "                                            \n",
    "        #convert to data frame with pandas for easier data manipulation\n",
    "\n",
    "        final_df = pd.DataFrame(final, columns= [\"Position\", \"Track Name\", \"Artist\", \"Streams\", \"URL\", \"Date\", \"Region\"])\n",
    "\n",
    "        #write to csv\n",
    "        start_date_st= start_date.strftime('%m_%y')\n",
    "        end_date_st= end_date.strftime('%m_%y')\n",
    "\n",
    "        with open(f'sp_data_{country}_{start_date_st}-{end_date_st}.csv', 'w', encoding=\"utf-8\") as f:\n",
    "                final_df.to_csv(f, header= True, index=False)"
   ]
  },
  {
   "cell_type": "code",
   "execution_count": 7,
   "id": "d76670e5",
   "metadata": {
    "scrolled": true
   },
   "outputs": [
    {
     "data": {
      "application/vnd.jupyter.widget-view+json": {
       "model_id": "3fe9819cade749bbbcbfd3cb838bf0ba",
       "version_major": 2,
       "version_minor": 0
      },
      "text/plain": [
       "  0%|          | 0/2 [00:00<?, ?it/s]"
      ]
     },
     "metadata": {},
     "output_type": "display_data"
    },
    {
     "data": {
      "application/vnd.jupyter.widget-view+json": {
       "model_id": "",
       "version_major": 2,
       "version_minor": 0
      },
      "text/plain": [
       "  0%|          | 0/1252 [00:00<?, ?it/s]"
      ]
     },
     "metadata": {},
     "output_type": "display_data"
    },
    {
     "data": {
      "application/vnd.jupyter.widget-view+json": {
       "model_id": "",
       "version_major": 2,
       "version_minor": 0
      },
      "text/plain": [
       "  0%|          | 0/1252 [00:00<?, ?it/s]"
      ]
     },
     "metadata": {},
     "output_type": "display_data"
    }
   ],
   "source": [
    "start_date= date(2018, 1, 1)\n",
    "end_date= date(2021, 6, 5)\n",
    "get_songs(country_codes, start_date, end_date)"
   ]
  },
  {
   "cell_type": "code",
   "execution_count": 8,
   "id": "630ecfe0",
   "metadata": {},
   "outputs": [
    {
     "name": "stdout",
     "output_type": "stream",
     "text": [
      "That's all folks!!\n"
     ]
    }
   ],
   "source": [
    "print(\"That's all folks!!\")"
   ]
  }
 ],
 "metadata": {
  "kernelspec": {
   "display_name": "Python 3",
   "language": "python",
   "name": "python3"
  },
  "language_info": {
   "codemirror_mode": {
    "name": "ipython",
    "version": 3
   },
   "file_extension": ".py",
   "mimetype": "text/x-python",
   "name": "python",
   "nbconvert_exporter": "python",
   "pygments_lexer": "ipython3",
   "version": "3.8.10"
  }
 },
 "nbformat": 4,
 "nbformat_minor": 5
}
